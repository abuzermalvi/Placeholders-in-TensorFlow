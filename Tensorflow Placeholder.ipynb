{
 "cells": [
  {
   "cell_type": "code",
   "execution_count": 1,
   "metadata": {
    "ExecuteTime": {
     "end_time": "2020-06-21T13:51:48.846589Z",
     "start_time": "2020-06-21T13:51:42.955983Z"
    }
   },
   "outputs": [
    {
     "name": "stdout",
     "output_type": "stream",
     "text": [
      "C:\\Users\\abuze\\Great Lakes\\Data_Files\n"
     ]
    }
   ],
   "source": [
    "import matplotlib.pyplot as plt\n",
    "import seaborn as sns\n",
    "import numpy as np\n",
    "import pandas as pd\n",
    "import warnings\n",
    "warnings.filterwarnings('ignore')\n",
    "pd.set_option('display.max_rows', None)\n",
    "pd.set_option('display.max_columns', None)\n",
    "import os\n",
    "os.chdir('C:/Users/abuze/Great Lakes/Data_Files')\n",
    "print(os.getcwd())\n",
    "from sklearn.model_selection import train_test_split"
   ]
  },
  {
   "cell_type": "code",
   "execution_count": 30,
   "metadata": {
    "ExecuteTime": {
     "end_time": "2020-06-21T14:23:50.812756Z",
     "start_time": "2020-06-21T14:23:50.797762Z"
    }
   },
   "outputs": [],
   "source": [
    "import tensorflow as  tf\n",
    "import random"
   ]
  },
  {
   "cell_type": "code",
   "execution_count": 55,
   "metadata": {
    "ExecuteTime": {
     "end_time": "2020-06-21T16:56:59.116697Z",
     "start_time": "2020-06-21T16:56:59.060707Z"
    },
    "scrolled": true
   },
   "outputs": [
    {
     "name": "stdout",
     "output_type": "stream",
     "text": [
      "[[ 2. 24.  7.  8.  1.]\n",
      " [ 8.  6. 75. 14. 48.]]\n"
     ]
    }
   ],
   "source": [
    "import tensorflow as  tf\n",
    "\n",
    "x = tf.placeholder(dtype=\"float\", shape=(2, 5), name='placeholder1')\n",
    "y = tf.round(x)\n",
    "\n",
    "with tf.Session() as session:\n",
    "    output=session.run(y,feed_dict={x:[[2.33,24.24,6.56,7.87,0.55],\n",
    "                                       [8.24,5.52,75.24,13.95,48.26]]})\n",
    "    print(output)"
   ]
  },
  {
   "cell_type": "code",
   "execution_count": 51,
   "metadata": {
    "ExecuteTime": {
     "end_time": "2020-06-21T16:31:58.624935Z",
     "start_time": "2020-06-21T16:31:58.544944Z"
    },
    "scrolled": true
   },
   "outputs": [
    {
     "name": "stdout",
     "output_type": "stream",
     "text": [
      "[[14 18 14]\n",
      " [30 34 30]\n",
      " [23 25 24]]\n"
     ]
    }
   ],
   "source": [
    "import tensorflow as tf\n",
    "import random\n",
    "\n",
    "matA = tf.placeholder(dtype = 'int32', shape = (3, 3), name = 'MatrixA')\n",
    "matB = tf.placeholder(dtype = 'int32', shape = (3, 3), name = 'MatrixB')\n",
    "\n",
    "mat_mul = tf.matmul(matA, matB)\n",
    "\n",
    "with tf.Session() as session:\n",
    "    output=session.run(mat_mul,{matA: np.random.randint(0,5,size=(3,3)),\n",
    "                                matB: np.random.randint(5,10,size=(3,3))})\n",
    "    print(output)"
   ]
  },
  {
   "cell_type": "code",
   "execution_count": 53,
   "metadata": {
    "ExecuteTime": {
     "end_time": "2020-06-21T16:45:50.877677Z",
     "start_time": "2020-06-21T16:45:38.279863Z"
    }
   },
   "outputs": [
    {
     "name": "stdout",
     "output_type": "stream",
     "text": [
      "CodeSpeedy\n",
      "Coding Solution & Software Development\n",
      "b'CodeSpeedy - Coding Solution & Software Development'\n"
     ]
    }
   ],
   "source": [
    "import tensorflow as tf\n",
    "\n",
    "str1 = tf.placeholder(dtype = 'string', shape = None, name='String1')\n",
    "str2 = tf.placeholder(dtype = 'string', shape = None, name='String2')\n",
    "\n",
    "str_concat =  str1 +\" - \"+str2\n",
    "\n",
    "with tf.Session() as session:\n",
    "    output = session.run(str_concat, {str1: str(input()), \n",
    "                                      str2: str(input())})\n",
    "    print(output)"
   ]
  },
  {
   "cell_type": "code",
   "execution_count": 45,
   "metadata": {
    "ExecuteTime": {
     "end_time": "2020-06-21T15:14:33.597554Z",
     "start_time": "2020-06-21T15:14:33.586558Z"
    }
   },
   "outputs": [],
   "source": [
    "x: [[1.323, 224.214, 24.56, 76.87,0.9], \n",
    "                                           [48.24, 53.52, 755.24, 13.90545, 048.246]]"
   ]
  },
  {
   "cell_type": "code",
   "execution_count": 46,
   "metadata": {
    "ExecuteTime": {
     "end_time": "2020-06-21T15:14:34.070790Z",
     "start_time": "2020-06-21T15:14:34.051803Z"
    }
   },
   "outputs": [
    {
     "data": {
      "text/plain": [
       "list"
      ]
     },
     "execution_count": 46,
     "metadata": {},
     "output_type": "execute_result"
    }
   ],
   "source": [
    "type(x)"
   ]
  },
  {
   "cell_type": "code",
   "execution_count": null,
   "metadata": {},
   "outputs": [],
   "source": []
  }
 ],
 "metadata": {
  "kernelspec": {
   "display_name": "Python 3",
   "language": "python",
   "name": "python3"
  },
  "language_info": {
   "codemirror_mode": {
    "name": "ipython",
    "version": 3
   },
   "file_extension": ".py",
   "mimetype": "text/x-python",
   "name": "python",
   "nbconvert_exporter": "python",
   "pygments_lexer": "ipython3",
   "version": "3.7.7"
  }
 },
 "nbformat": 4,
 "nbformat_minor": 4
}
