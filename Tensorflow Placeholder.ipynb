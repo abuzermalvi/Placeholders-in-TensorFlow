{
 "cells": [
  {
   "cell_type": "code",
   "execution_count": 1,
   "metadata": {
    "ExecuteTime": {
     "end_time": "2020-07-02T11:30:17.958738Z",
     "start_time": "2020-07-02T11:29:38.238845Z"
    }
   },
   "outputs": [],
   "source": [
    "import tensorflow as  tf\n",
    "import random"
   ]
  },
  {
   "cell_type": "code",
   "execution_count": 2,
   "metadata": {
    "ExecuteTime": {
     "end_time": "2020-07-02T11:30:21.094554Z",
     "start_time": "2020-07-02T11:30:19.867652Z"
    },
    "scrolled": true
   },
   "outputs": [
    {
     "name": "stdout",
     "output_type": "stream",
     "text": [
      "[[ 2. 24.  7.  8.  1.]\n",
      " [ 8.  6. 75. 14. 48.]]\n"
     ]
    }
   ],
   "source": [
    "x = tf.placeholder(dtype=\"float\", shape=(2, 5), name='placeholder1')\n",
    "y = tf.round(x)\n",
    "\n",
    "with tf.Session() as session:\n",
    "    output=session.run(y,feed_dict={x:[[2.33,24.24,6.56,7.87,0.55],\n",
    "                                       [8.24,5.52,75.24,13.95,48.26]]})\n",
    "    print(output)"
   ]
  },
  {
   "cell_type": "code",
   "execution_count": 4,
   "metadata": {
    "ExecuteTime": {
     "end_time": "2020-07-02T11:31:21.477034Z",
     "start_time": "2020-07-02T11:31:21.468044Z"
    }
   },
   "outputs": [],
   "source": [
    "import numpy as np"
   ]
  },
  {
   "cell_type": "code",
   "execution_count": 5,
   "metadata": {
    "ExecuteTime": {
     "end_time": "2020-07-02T11:31:25.417779Z",
     "start_time": "2020-07-02T11:31:25.032458Z"
    },
    "scrolled": true
   },
   "outputs": [
    {
     "name": "stdout",
     "output_type": "stream",
     "text": [
      "[[62 74 74]\n",
      " [61 64 64]\n",
      " [48 45 51]]\n"
     ]
    }
   ],
   "source": [
    "matA = tf.placeholder(dtype = 'int32', shape = (3, 3), name = 'MatrixA')\n",
    "matB = tf.placeholder(dtype = 'int32', shape = (3, 3), name = 'MatrixB')\n",
    "\n",
    "mat_mul = tf.matmul(matA, matB)\n",
    "\n",
    "with tf.Session() as session:\n",
    "    output=session.run(mat_mul,{matA: np.random.randint(0,5,size=(3,3)),\n",
    "                                matB: np.random.randint(5,10,size=(3,3))})\n",
    "    print(output)"
   ]
  },
  {
   "cell_type": "code",
   "execution_count": 6,
   "metadata": {
    "ExecuteTime": {
     "end_time": "2020-07-02T11:32:42.648373Z",
     "start_time": "2020-07-02T11:31:34.057483Z"
    }
   },
   "outputs": [
    {
     "name": "stdout",
     "output_type": "stream",
     "text": [
      "Only permanent thing\n",
      "CHANGE\n",
      "b'Only permanent thing - CHANGE'\n"
     ]
    }
   ],
   "source": [
    "str1 = tf.placeholder(dtype = 'string', shape = None, name='String1')\n",
    "str2 = tf.placeholder(dtype = 'string', shape = None, name='String2')\n",
    "\n",
    "str_concat =  str1 +\" - \"+str2\n",
    "\n",
    "with tf.Session() as session:\n",
    "    output = session.run(str_concat, {str1: str(input()), \n",
    "                                      str2: str(input())})\n",
    "    print(output)"
   ]
  },
  {
   "cell_type": "code",
   "execution_count": null,
   "metadata": {},
   "outputs": [],
   "source": []
  }
 ],
 "metadata": {
  "kernelspec": {
   "display_name": "Python 3",
   "language": "python",
   "name": "python3"
  },
  "language_info": {
   "codemirror_mode": {
    "name": "ipython",
    "version": 3
   },
   "file_extension": ".py",
   "mimetype": "text/x-python",
   "name": "python",
   "nbconvert_exporter": "python",
   "pygments_lexer": "ipython3",
   "version": "3.7.7"
  }
 },
 "nbformat": 4,
 "nbformat_minor": 4
}
